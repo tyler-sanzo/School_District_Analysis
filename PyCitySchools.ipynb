{
 "cells": [
  {
   "cell_type": "code",
   "execution_count": 3,
   "source": [
    "import pandas as pd\r\n",
    "import os"
   ],
   "outputs": [],
   "metadata": {}
  },
  {
   "cell_type": "code",
   "execution_count": 4,
   "source": [
    "# Files to load\r\n",
    "school_data_to_load = \"Resources/schools_complete.csv\"\r\n",
    "student_data_to_load = \"Resources/students_complete.csv\"\r\n",
    "\r\n",
    "#or\r\n",
    "#school_data_to_load = os.path.join('Resources' , 'schools_complete.csv')v\r\n",
    "#student_data_to_load = os.path.join('Resources' , 'students_complete.csv')\r\n",
    "\r\n",
    "school_df = pd.read_csv(school_data_to_load)\r\n",
    "student_df = pd.read_csv(student_data_to_load)\r\n",
    "\r\n",
    "#use count to check which columns contain null values\r\n",
    "school_df.count()\r\n",
    "student_df.count()\r\n",
    "\r\n",
    "\r\n",
    "#or use isnull to output how many rows contain null values\r\n",
    "\r\n",
    "school_df.isnull().sum()\r\n",
    "\r\n"
   ],
   "outputs": [
    {
     "output_type": "execute_result",
     "data": {
      "text/plain": [
       "School ID      0\n",
       "school_name    0\n",
       "type           0\n",
       "size           0\n",
       "budget         0\n",
       "dtype: int64"
      ]
     },
     "metadata": {},
     "execution_count": 4
    }
   ],
   "metadata": {}
  },
  {
   "cell_type": "code",
   "execution_count": 5,
   "source": [
    "###find data types of both dataframes\r\n",
    "school_df.dtypes\r\n",
    "\r\n",
    "#finding data type of a specific column\r\n",
    "school_df.size.dtype\r\n",
    "#or if column contains spaces\r\n",
    "school_df[\"School ID\"].dtype\r\n",
    "\r\n",
    "student_df.dtypes"
   ],
   "outputs": [
    {
     "output_type": "execute_result",
     "data": {
      "text/plain": [
       "Student ID        int64\n",
       "student_name     object\n",
       "gender           object\n",
       "grade            object\n",
       "school_name      object\n",
       "reading_score     int64\n",
       "math_score        int64\n",
       "dtype: object"
      ]
     },
     "metadata": {},
     "execution_count": 5
    }
   ],
   "metadata": {}
  },
  {
   "cell_type": "code",
   "execution_count": 6,
   "source": [
    "#cleaning up student names\r\n",
    "\r\n",
    "#list of common pre/suffixes\r\n",
    "prefixes_suffixes = [\"Dr. \", \"Mr. \",\"Ms. \", \"Mrs. \", \"Miss \", \" MD\", \" DDS\", \" DVM\", \" PhD\"]\r\n",
    "\r\n",
    "\r\n",
    "#using substring methods to rid names of unwanted prefixes and suffixes\r\n",
    "for word in prefixes_suffixes:\r\n",
    "    student_df.student_name = student_df.student_name.str.replace(word,\"\")\r\n",
    "\r\n",
    "student_df.student_name"
   ],
   "outputs": [
    {
     "output_type": "execute_result",
     "data": {
      "text/plain": [
       "0           Paul Bradley\n",
       "1           Victor Smith\n",
       "2        Kevin Rodriguez\n",
       "3          Richard Scott\n",
       "4             Bonnie Ray\n",
       "              ...       \n",
       "39165       Donna Howard\n",
       "39166          Dawn Bell\n",
       "39167     Rebecca Tanner\n",
       "39168       Desiree Kidd\n",
       "39169    Carolyn Jackson\n",
       "Name: student_name, Length: 39170, dtype: object"
      ]
     },
     "metadata": {},
     "execution_count": 6
    }
   ],
   "metadata": {}
  },
  {
   "cell_type": "code",
   "execution_count": 15,
   "source": [
    "#Combining data into single df\r\n",
    "\r\n",
    "school_data_complete_df = pd.merge(student_df, school_df, on='school_name')\r\n",
    "\r\n",
    "school_data_complete_df.head()\r\n",
    "\r\n",
    "#count of number of students\r\n",
    "student_count = school_data_complete_df['Student ID'].count()\r\n",
    "student_count\r\n",
    "\r\n",
    "#unique list of school names\r\n",
    "school_count = school_data_complete_df.school_name.unique()\r\n",
    "school_count\r\n",
    "\r\n",
    "#count of schools\r\n",
    "\r\n",
    "len(school_count)\r\n"
   ],
   "outputs": [
    {
     "output_type": "execute_result",
     "data": {
      "text/plain": [
       "15"
      ]
     },
     "metadata": {},
     "execution_count": 15
    }
   ],
   "metadata": {}
  },
  {
   "cell_type": "code",
   "execution_count": 18,
   "source": [
    "#4.7.4 Get the Total Budget\r\n",
    "\r\n",
    "#must use school df, merged will contain school budget but repeated for every student in that school\r\n",
    "total_budget = school_df.budget.sum()\r\n",
    "total_budget"
   ],
   "outputs": [
    {
     "output_type": "execute_result",
     "data": {
      "text/plain": [
       "24649428"
      ]
     },
     "metadata": {},
     "execution_count": 18
    }
   ],
   "metadata": {}
  },
  {
   "cell_type": "code",
   "execution_count": 23,
   "source": [
    "#4.7.5 Get the average scores\r\n",
    "\r\n",
    "average_reading_score = school_data_complete_df.reading_score.mean()\r\n",
    "\r\n",
    "average_reading_score\r\n",
    "\r\n",
    "average_math_score = school_data_complete_df.math_score.mean()\r\n",
    "\r\n",
    "average_math_score\r\n",
    "\r\n"
   ],
   "outputs": [
    {
     "output_type": "execute_result",
     "data": {
      "text/plain": [
       "80.43160582078121"
      ]
     },
     "metadata": {},
     "execution_count": 23
    }
   ],
   "metadata": {}
  },
  {
   "cell_type": "code",
   "execution_count": 46,
   "source": [
    "#4.7.6 Get passing percentages\r\n",
    "\r\n",
    "#define passing grades \r\n",
    "\r\n",
    "#passing_math = school_data_complete_df.math_score >=70\r\n",
    "#passing_reading = school_data_complete_df.reading_score >=70\r\n",
    "\r\n",
    "#create data frame to hold passing students only\r\n",
    "\r\n",
    "passing_math = school_data_complete_df[school_data_complete_df.math_score >=70]\r\n",
    "\r\n",
    "passing_math\r\n",
    "\r\n",
    "passing_reading = school_data_complete_df[school_data_complete_df.reading_score >=70]\r\n",
    "\r\n",
    "passing_reading\r\n",
    "\r\n",
    "#get number of students passing math\r\n",
    "passing_math_count = passing_math.student_name.count()\r\n",
    "\r\n",
    "#number of students passing reading\r\n",
    "passing_reading_count = passing_reading.student_name.count()\r\n",
    "\r\n",
    "print(passing_math_count)\r\n",
    "print(passing_reading_count)\r\n"
   ],
   "outputs": [
    {
     "output_type": "stream",
     "name": "stdout",
     "text": [
      "29370\n",
      "33610\n"
     ]
    }
   ],
   "metadata": {}
  }
 ],
 "metadata": {
  "orig_nbformat": 4,
  "language_info": {
   "name": "python",
   "version": "3.8.2",
   "mimetype": "text/x-python",
   "codemirror_mode": {
    "name": "ipython",
    "version": 3
   },
   "pygments_lexer": "ipython3",
   "nbconvert_exporter": "python",
   "file_extension": ".py"
  },
  "kernelspec": {
   "name": "python3",
   "display_name": "Python 3.8.2 32-bit"
  },
  "interpreter": {
   "hash": "53407e1270532579b1a89f93d56ca0e7e69e0c7fe55253e94960ff9a19649c31"
  }
 },
 "nbformat": 4,
 "nbformat_minor": 2
}