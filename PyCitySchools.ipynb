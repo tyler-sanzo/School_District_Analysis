{
 "cells": [
  {
   "cell_type": "code",
   "execution_count": 236,
   "source": [
    "import pandas as pd\r\n",
    "import os"
   ],
   "outputs": [],
   "metadata": {}
  },
  {
   "cell_type": "code",
   "execution_count": 237,
   "source": [
    "# Files to load\r\n",
    "school_data_to_load = \"Resources/schools_complete.csv\"\r\n",
    "student_data_to_load = \"Resources/students_complete.csv\"\r\n",
    "\r\n",
    "#or\r\n",
    "#school_data_to_load = os.path.join('Resources' , 'schools_complete.csv')v\r\n",
    "#student_data_to_load = os.path.join('Resources' , 'students_complete.csv')\r\n",
    "\r\n",
    "school_df = pd.read_csv(school_data_to_load)\r\n",
    "student_df = pd.read_csv(student_data_to_load)\r\n",
    "\r\n",
    "#use count to check which columns contain null values\r\n",
    "school_df.count()\r\n",
    "student_df.count()\r\n",
    "\r\n",
    "\r\n",
    "#or use isnull to output how many rows contain null values\r\n",
    "\r\n",
    "school_df.isnull().sum()\r\n",
    "\r\n"
   ],
   "outputs": [
    {
     "output_type": "execute_result",
     "data": {
      "text/plain": [
       "School ID      0\n",
       "school_name    0\n",
       "type           0\n",
       "size           0\n",
       "budget         0\n",
       "dtype: int64"
      ]
     },
     "metadata": {},
     "execution_count": 237
    }
   ],
   "metadata": {}
  },
  {
   "cell_type": "code",
   "execution_count": 238,
   "source": [
    "###find data types of both dataframes\r\n",
    "school_df.dtypes\r\n",
    "\r\n",
    "#finding data type of a specific column\r\n",
    "school_df.size.dtype\r\n",
    "#or if column contains spaces\r\n",
    "school_df[\"School ID\"].dtype\r\n",
    "\r\n",
    "student_df.dtypes"
   ],
   "outputs": [
    {
     "output_type": "execute_result",
     "data": {
      "text/plain": [
       "Student ID        int64\n",
       "student_name     object\n",
       "gender           object\n",
       "grade            object\n",
       "school_name      object\n",
       "reading_score     int64\n",
       "math_score        int64\n",
       "dtype: object"
      ]
     },
     "metadata": {},
     "execution_count": 238
    }
   ],
   "metadata": {}
  },
  {
   "cell_type": "code",
   "execution_count": 239,
   "source": [
    "#cleaning up student names\r\n",
    "\r\n",
    "#list of common pre/suffixes\r\n",
    "prefixes_suffixes = [\"Dr. \", \"Mr. \",\"Ms. \", \"Mrs. \", \"Miss \", \" MD\", \" DDS\", \" DVM\", \" PhD\"]\r\n",
    "\r\n",
    "\r\n",
    "#using substring methods to rid names of unwanted prefixes and suffixes\r\n",
    "for word in prefixes_suffixes:\r\n",
    "    student_df.student_name = student_df.student_name.str.replace(word,\"\")\r\n",
    "\r\n",
    "student_df.student_name"
   ],
   "outputs": [
    {
     "output_type": "execute_result",
     "data": {
      "text/plain": [
       "0           Paul Bradley\n",
       "1           Victor Smith\n",
       "2        Kevin Rodriguez\n",
       "3          Richard Scott\n",
       "4             Bonnie Ray\n",
       "              ...       \n",
       "39165       Donna Howard\n",
       "39166          Dawn Bell\n",
       "39167     Rebecca Tanner\n",
       "39168       Desiree Kidd\n",
       "39169    Carolyn Jackson\n",
       "Name: student_name, Length: 39170, dtype: object"
      ]
     },
     "metadata": {},
     "execution_count": 239
    }
   ],
   "metadata": {}
  },
  {
   "cell_type": "code",
   "execution_count": 240,
   "source": [
    "#Combining data into single df\r\n",
    "\r\n",
    "school_data_complete_df = pd.merge(student_df, school_df, on='school_name')\r\n",
    "\r\n",
    "school_data_complete_df.head()\r\n",
    "\r\n",
    "#count of number of students\r\n",
    "student_count = school_data_complete_df['Student ID'].count()\r\n",
    "student_count\r\n",
    "\r\n",
    "#unique list of school names\r\n",
    "school_count = len(school_data_complete_df.school_name.unique())\r\n",
    "\r\n",
    "\r\n",
    "#count of schools\r\n",
    "\r\n",
    "school_count\r\n"
   ],
   "outputs": [
    {
     "output_type": "execute_result",
     "data": {
      "text/plain": [
       "15"
      ]
     },
     "metadata": {},
     "execution_count": 240
    }
   ],
   "metadata": {}
  },
  {
   "cell_type": "code",
   "execution_count": 241,
   "source": [
    "#4.7.4 Get the Total Budget\r\n",
    "\r\n",
    "#must use school df, merged will contain school budget but repeated for every student in that school\r\n",
    "total_budget = school_df.budget.sum()\r\n",
    "total_budget"
   ],
   "outputs": [
    {
     "output_type": "execute_result",
     "data": {
      "text/plain": [
       "24649428"
      ]
     },
     "metadata": {},
     "execution_count": 241
    }
   ],
   "metadata": {}
  },
  {
   "cell_type": "code",
   "execution_count": 242,
   "source": [
    "#4.7.5 Get the average scores\r\n",
    "\r\n",
    "average_reading_score = school_data_complete_df.reading_score.mean()\r\n",
    "\r\n",
    "average_reading_score\r\n",
    "\r\n",
    "average_math_score = school_data_complete_df.math_score.mean()\r\n",
    "\r\n",
    "average_math_score\r\n",
    "\r\n"
   ],
   "outputs": [
    {
     "output_type": "execute_result",
     "data": {
      "text/plain": [
       "78.98537145774827"
      ]
     },
     "metadata": {},
     "execution_count": 242
    }
   ],
   "metadata": {}
  },
  {
   "cell_type": "code",
   "execution_count": 243,
   "source": [
    "#4.7.6 Get passing percentages\r\n",
    "\r\n",
    "#define passing grades \r\n",
    "\r\n",
    "#passing_math = school_data_complete_df.math_score >=70\r\n",
    "#passing_reading = school_data_complete_df.reading_score >=70\r\n",
    "\r\n",
    "#create data frame to hold passing students only\r\n",
    "\r\n",
    "passing_math = school_data_complete_df[school_data_complete_df.math_score >=70]\r\n",
    "\r\n",
    "passing_math\r\n",
    "\r\n",
    "passing_reading = school_data_complete_df[school_data_complete_df.reading_score >=70]\r\n",
    "\r\n",
    "passing_reading\r\n",
    "\r\n",
    "#get number of students passing math\r\n",
    "passing_math_count = passing_math.student_name.count()\r\n",
    "\r\n",
    "#number of students passing reading\r\n",
    "passing_reading_count = passing_reading.student_name.count()\r\n",
    "\r\n",
    "print(passing_math_count)\r\n",
    "print(passing_reading_count)\r\n"
   ],
   "outputs": [
    {
     "output_type": "stream",
     "name": "stdout",
     "text": [
      "29370\n",
      "33610\n"
     ]
    }
   ],
   "metadata": {}
  },
  {
   "cell_type": "code",
   "execution_count": 244,
   "source": [
    "#calculate passing percentages\r\n",
    "\r\n",
    "passing_math_percentage = passing_math_count / student_count * 100\r\n",
    "passing_reading_percentage = passing_reading_count / student_count * 100"
   ],
   "outputs": [],
   "metadata": {}
  },
  {
   "cell_type": "code",
   "execution_count": 245,
   "source": [
    "#calculate overall passing percentage\r\n",
    "\r\n",
    "#creating new data frame\r\n",
    "passing_math_reading = school_data_complete_df[(school_data_complete_df.math_score >= 70) & (school_data_complete_df.reading_score >= 70)]\r\n",
    "\r\n",
    "#count of students passing both math and reading\r\n",
    "overall_passing_count = passing_math_reading.student_name.count()\r\n",
    "\r\n",
    "overall_passing_percentage = overall_passing_count / student_count * 100"
   ],
   "outputs": [],
   "metadata": {}
  },
  {
   "cell_type": "code",
   "execution_count": 246,
   "source": [
    "###4.7.7 - Creating summary df\r\n",
    "\r\n",
    "district_summary_df = pd.DataFrame(\r\n",
    "          [{\"Total Schools\": school_count,\r\n",
    "          \"Total Students\": student_count,\r\n",
    "          \"Total Budget\": total_budget,\r\n",
    "          \"Average Math Score\": average_math_score,\r\n",
    "          \"Average Reading Score\": average_reading_score,\r\n",
    "          \"% Passing Math\": passing_math_percentage,\r\n",
    "         \"% Passing Reading\": passing_reading_percentage,\r\n",
    "        \"% Overall Passing\": overall_passing_percentage}])\r\n",
    "district_summary_df\r\n",
    "\r\n",
    "\r\n",
    "\r\n"
   ],
   "outputs": [
    {
     "output_type": "execute_result",
     "data": {
      "text/html": [
       "<div>\n",
       "<style scoped>\n",
       "    .dataframe tbody tr th:only-of-type {\n",
       "        vertical-align: middle;\n",
       "    }\n",
       "\n",
       "    .dataframe tbody tr th {\n",
       "        vertical-align: top;\n",
       "    }\n",
       "\n",
       "    .dataframe thead th {\n",
       "        text-align: right;\n",
       "    }\n",
       "</style>\n",
       "<table border=\"1\" class=\"dataframe\">\n",
       "  <thead>\n",
       "    <tr style=\"text-align: right;\">\n",
       "      <th></th>\n",
       "      <th>Total Schools</th>\n",
       "      <th>Total Students</th>\n",
       "      <th>Total Budget</th>\n",
       "      <th>Average Math Score</th>\n",
       "      <th>Average Reading Score</th>\n",
       "      <th>% Passing Math</th>\n",
       "      <th>% Passing Reading</th>\n",
       "      <th>% Overall Passing</th>\n",
       "    </tr>\n",
       "  </thead>\n",
       "  <tbody>\n",
       "    <tr>\n",
       "      <th>0</th>\n",
       "      <td>15</td>\n",
       "      <td>39170</td>\n",
       "      <td>24649428</td>\n",
       "      <td>78.985371</td>\n",
       "      <td>81.87784</td>\n",
       "      <td>74.980853</td>\n",
       "      <td>85.805463</td>\n",
       "      <td>65.172326</td>\n",
       "    </tr>\n",
       "  </tbody>\n",
       "</table>\n",
       "</div>"
      ],
      "text/plain": [
       "   Total Schools  Total Students  Total Budget  Average Math Score  \\\n",
       "0             15           39170      24649428           78.985371   \n",
       "\n",
       "   Average Reading Score  % Passing Math  % Passing Reading  % Overall Passing  \n",
       "0               81.87784       74.980853          85.805463          65.172326  "
      ]
     },
     "metadata": {},
     "execution_count": 246
    }
   ],
   "metadata": {}
  },
  {
   "cell_type": "code",
   "execution_count": 247,
   "source": [
    "district_summary_df"
   ],
   "outputs": [
    {
     "output_type": "execute_result",
     "data": {
      "text/html": [
       "<div>\n",
       "<style scoped>\n",
       "    .dataframe tbody tr th:only-of-type {\n",
       "        vertical-align: middle;\n",
       "    }\n",
       "\n",
       "    .dataframe tbody tr th {\n",
       "        vertical-align: top;\n",
       "    }\n",
       "\n",
       "    .dataframe thead th {\n",
       "        text-align: right;\n",
       "    }\n",
       "</style>\n",
       "<table border=\"1\" class=\"dataframe\">\n",
       "  <thead>\n",
       "    <tr style=\"text-align: right;\">\n",
       "      <th></th>\n",
       "      <th>Total Schools</th>\n",
       "      <th>Total Students</th>\n",
       "      <th>Total Budget</th>\n",
       "      <th>Average Math Score</th>\n",
       "      <th>Average Reading Score</th>\n",
       "      <th>% Passing Math</th>\n",
       "      <th>% Passing Reading</th>\n",
       "      <th>% Overall Passing</th>\n",
       "    </tr>\n",
       "  </thead>\n",
       "  <tbody>\n",
       "    <tr>\n",
       "      <th>0</th>\n",
       "      <td>15</td>\n",
       "      <td>39170</td>\n",
       "      <td>24649428</td>\n",
       "      <td>78.985371</td>\n",
       "      <td>81.87784</td>\n",
       "      <td>74.980853</td>\n",
       "      <td>85.805463</td>\n",
       "      <td>65.172326</td>\n",
       "    </tr>\n",
       "  </tbody>\n",
       "</table>\n",
       "</div>"
      ],
      "text/plain": [
       "   Total Schools  Total Students  Total Budget  Average Math Score  \\\n",
       "0             15           39170      24649428           78.985371   \n",
       "\n",
       "   Average Reading Score  % Passing Math  % Passing Reading  % Overall Passing  \n",
       "0               81.87784       74.980853          85.805463          65.172326  "
      ]
     },
     "metadata": {},
     "execution_count": 247
    }
   ],
   "metadata": {}
  },
  {
   "cell_type": "code",
   "execution_count": 248,
   "source": [
    "###4.7.8 Formatting Columns\r\n",
    "\r\n",
    "#we want to format dollar amounts to 2 decimals with USD sign and numbers larger than 999 with thousands separator\r\n",
    "\r\n",
    "district_summary_df[\"Total Students\"] = district_summary_df[\"Total Students\"].map(\"{:,}\".format)\r\n",
    "\r\n",
    "\r\n"
   ],
   "outputs": [],
   "metadata": {}
  },
  {
   "cell_type": "code",
   "execution_count": 249,
   "source": [
    "district_summary_df['Total Students']"
   ],
   "outputs": [
    {
     "output_type": "execute_result",
     "data": {
      "text/plain": [
       "0    39,170\n",
       "Name: Total Students, dtype: object"
      ]
     },
     "metadata": {},
     "execution_count": 249
    }
   ],
   "metadata": {}
  },
  {
   "cell_type": "code",
   "execution_count": 250,
   "source": [
    "#adding dollar sign to dollar values\r\n",
    "district_summary_df[\"Total Budget\"] = district_summary_df[\"Total Budget\"].map(\"${:,.2f}\".format)\r\n",
    "\r\n",
    "\r\n"
   ],
   "outputs": [],
   "metadata": {}
  },
  {
   "cell_type": "code",
   "execution_count": 251,
   "source": [
    "district_summary_df.dtypes\r\n"
   ],
   "outputs": [
    {
     "output_type": "execute_result",
     "data": {
      "text/plain": [
       "Total Schools              int64\n",
       "Total Students            object\n",
       "Total Budget              object\n",
       "Average Math Score       float64\n",
       "Average Reading Score    float64\n",
       "% Passing Math           float64\n",
       "% Passing Reading        float64\n",
       "% Overall Passing        float64\n",
       "dtype: object"
      ]
     },
     "metadata": {},
     "execution_count": 251
    }
   ],
   "metadata": {}
  },
  {
   "cell_type": "code",
   "execution_count": 252,
   "source": [
    "'''We need to format the remaining columns accordingly:\r\n",
    "\r\n",
    "The \"Average Reading Score\" column will be formatted to one decimal place.\r\n",
    "The \"Average Math Score\" column will be formatted to one decimal place.\r\n",
    "The \"% Passing Reading\" column will be formatted to the nearest whole number percentage.\r\n",
    "The \"% Passing Math\" column will be formatted to the nearest whole number percentage\r\n",
    "The \"% Overall Passing\" column will be formatted to the nearest whole number percentage.\r\n",
    "'''\r\n",
    "\r\n",
    "district_summary_df['Average Reading Score'] = district_summary_df['Average Reading Score'].map(\"{:.1f}\".format)\r\n",
    "district_summary_df['Average Math Score'] = district_summary_df['Average Math Score'].map(\"{:.1f}\".format)\r\n",
    "district_summary_df['% Passing Reading'] = district_summary_df['% Passing Reading'].map(\"{:.0f}\".format)\r\n",
    "district_summary_df['% Passing Math'] = district_summary_df['% Passing Math'].map(\"{:.0f}\".format)\r\n",
    "district_summary_df['% Overall Passing'] = district_summary_df['% Overall Passing'].map(\"{:.0f}\".format)\r\n"
   ],
   "outputs": [],
   "metadata": {}
  },
  {
   "cell_type": "code",
   "execution_count": 253,
   "source": [
    "district_summary_df\r\n"
   ],
   "outputs": [
    {
     "output_type": "execute_result",
     "data": {
      "text/html": [
       "<div>\n",
       "<style scoped>\n",
       "    .dataframe tbody tr th:only-of-type {\n",
       "        vertical-align: middle;\n",
       "    }\n",
       "\n",
       "    .dataframe tbody tr th {\n",
       "        vertical-align: top;\n",
       "    }\n",
       "\n",
       "    .dataframe thead th {\n",
       "        text-align: right;\n",
       "    }\n",
       "</style>\n",
       "<table border=\"1\" class=\"dataframe\">\n",
       "  <thead>\n",
       "    <tr style=\"text-align: right;\">\n",
       "      <th></th>\n",
       "      <th>Total Schools</th>\n",
       "      <th>Total Students</th>\n",
       "      <th>Total Budget</th>\n",
       "      <th>Average Math Score</th>\n",
       "      <th>Average Reading Score</th>\n",
       "      <th>% Passing Math</th>\n",
       "      <th>% Passing Reading</th>\n",
       "      <th>% Overall Passing</th>\n",
       "    </tr>\n",
       "  </thead>\n",
       "  <tbody>\n",
       "    <tr>\n",
       "      <th>0</th>\n",
       "      <td>15</td>\n",
       "      <td>39,170</td>\n",
       "      <td>$24,649,428.00</td>\n",
       "      <td>79.0</td>\n",
       "      <td>81.9</td>\n",
       "      <td>75</td>\n",
       "      <td>86</td>\n",
       "      <td>65</td>\n",
       "    </tr>\n",
       "  </tbody>\n",
       "</table>\n",
       "</div>"
      ],
      "text/plain": [
       "   Total Schools Total Students    Total Budget Average Math Score  \\\n",
       "0             15         39,170  $24,649,428.00               79.0   \n",
       "\n",
       "  Average Reading Score % Passing Math % Passing Reading % Overall Passing  \n",
       "0                  81.9             75                86                65  "
      ]
     },
     "metadata": {},
     "execution_count": 253
    }
   ],
   "metadata": {}
  },
  {
   "cell_type": "code",
   "execution_count": 254,
   "source": [
    "#reordering the columns\r\n",
    "\r\n",
    "district_summary_df = district_summary_df[[\"Total Schools\", \"Total Students\", \"Total Budget\",\"Average Math Score\", \"Average Reading Score\", \"% Passing Math\", \"% Passing Reading\", \"% Overall Passing\"]]\r\n",
    "\r\n",
    "district_summary_df\r\n"
   ],
   "outputs": [
    {
     "output_type": "execute_result",
     "data": {
      "text/html": [
       "<div>\n",
       "<style scoped>\n",
       "    .dataframe tbody tr th:only-of-type {\n",
       "        vertical-align: middle;\n",
       "    }\n",
       "\n",
       "    .dataframe tbody tr th {\n",
       "        vertical-align: top;\n",
       "    }\n",
       "\n",
       "    .dataframe thead th {\n",
       "        text-align: right;\n",
       "    }\n",
       "</style>\n",
       "<table border=\"1\" class=\"dataframe\">\n",
       "  <thead>\n",
       "    <tr style=\"text-align: right;\">\n",
       "      <th></th>\n",
       "      <th>Total Schools</th>\n",
       "      <th>Total Students</th>\n",
       "      <th>Total Budget</th>\n",
       "      <th>Average Math Score</th>\n",
       "      <th>Average Reading Score</th>\n",
       "      <th>% Passing Math</th>\n",
       "      <th>% Passing Reading</th>\n",
       "      <th>% Overall Passing</th>\n",
       "    </tr>\n",
       "  </thead>\n",
       "  <tbody>\n",
       "    <tr>\n",
       "      <th>0</th>\n",
       "      <td>15</td>\n",
       "      <td>39,170</td>\n",
       "      <td>$24,649,428.00</td>\n",
       "      <td>79.0</td>\n",
       "      <td>81.9</td>\n",
       "      <td>75</td>\n",
       "      <td>86</td>\n",
       "      <td>65</td>\n",
       "    </tr>\n",
       "  </tbody>\n",
       "</table>\n",
       "</div>"
      ],
      "text/plain": [
       "   Total Schools Total Students    Total Budget Average Math Score  \\\n",
       "0             15         39,170  $24,649,428.00               79.0   \n",
       "\n",
       "  Average Reading Score % Passing Math % Passing Reading % Overall Passing  \n",
       "0                  81.9             75                86                65  "
      ]
     },
     "metadata": {},
     "execution_count": 254
    }
   ],
   "metadata": {}
  },
  {
   "cell_type": "code",
   "execution_count": 255,
   "source": [
    "#4.8.1 Set Index To School Name\r\n",
    "\r\n",
    "#setting the index and adding the school type to a series\r\n",
    "per_school_types = school_df.set_index(['school_name']).type\r\n",
    "#making series into DF\r\n",
    "df = per_school_types.to_frame()\r\n",
    "\r\n"
   ],
   "outputs": [],
   "metadata": {}
  },
  {
   "cell_type": "code",
   "execution_count": 256,
   "source": [
    "\r\n",
    "#doing the same thing with student count using school df\r\n",
    "\r\n",
    "per_school_counts = school_df.set_index(['school_name'])['size']\r\n",
    "per_school_counts"
   ],
   "outputs": [
    {
     "output_type": "execute_result",
     "data": {
      "text/plain": [
       "school_name\n",
       "Huang High School        2917\n",
       "Figueroa High School     2949\n",
       "Shelton High School      1761\n",
       "Hernandez High School    4635\n",
       "Griffin High School      1468\n",
       "Wilson High School       2283\n",
       "Cabrera High School      1858\n",
       "Bailey High School       4976\n",
       "Holden High School        427\n",
       "Pena High School          962\n",
       "Wright High School       1800\n",
       "Rodriguez High School    3999\n",
       "Johnson High School      4761\n",
       "Ford High School         2739\n",
       "Thomas High School       1635\n",
       "Name: size, dtype: int64"
      ]
     },
     "metadata": {},
     "execution_count": 256
    }
   ],
   "metadata": {}
  },
  {
   "cell_type": "code",
   "execution_count": 257,
   "source": [
    "#doing the same thing but with school data complete\r\n",
    "\r\n",
    "per_school_counts = school_data_complete_df['school_name'].value_counts()\r\n",
    "per_school_counts"
   ],
   "outputs": [
    {
     "output_type": "execute_result",
     "data": {
      "text/plain": [
       "Bailey High School       4976\n",
       "Johnson High School      4761\n",
       "Hernandez High School    4635\n",
       "Rodriguez High School    3999\n",
       "Figueroa High School     2949\n",
       "Huang High School        2917\n",
       "Ford High School         2739\n",
       "Wilson High School       2283\n",
       "Cabrera High School      1858\n",
       "Wright High School       1800\n",
       "Shelton High School      1761\n",
       "Thomas High School       1635\n",
       "Griffin High School      1468\n",
       "Pena High School          962\n",
       "Holden High School        427\n",
       "Name: school_name, dtype: int64"
      ]
     },
     "metadata": {},
     "execution_count": 257
    }
   ],
   "metadata": {}
  },
  {
   "cell_type": "code",
   "execution_count": 258,
   "source": [
    "#4.8.3 Get Budget Per student\r\n",
    "\r\n",
    "per_school_budget = school_df.set_index(['school_name']).budget\r\n",
    "per_school_budget"
   ],
   "outputs": [
    {
     "output_type": "execute_result",
     "data": {
      "text/plain": [
       "school_name\n",
       "Huang High School        1910635\n",
       "Figueroa High School     1884411\n",
       "Shelton High School      1056600\n",
       "Hernandez High School    3022020\n",
       "Griffin High School       917500\n",
       "Wilson High School       1319574\n",
       "Cabrera High School      1081356\n",
       "Bailey High School       3124928\n",
       "Holden High School        248087\n",
       "Pena High School          585858\n",
       "Wright High School       1049400\n",
       "Rodriguez High School    2547363\n",
       "Johnson High School      3094650\n",
       "Ford High School         1763916\n",
       "Thomas High School       1043130\n",
       "Name: budget, dtype: int64"
      ]
     },
     "metadata": {},
     "execution_count": 258
    }
   ],
   "metadata": {}
  },
  {
   "cell_type": "code",
   "execution_count": 259,
   "source": [
    "#Calculte per student spending\r\n",
    "\r\n",
    "per_school_capita = per_school_budget / per_school_counts\r\n",
    "per_school_capita"
   ],
   "outputs": [
    {
     "output_type": "execute_result",
     "data": {
      "text/plain": [
       "Bailey High School       628.0\n",
       "Cabrera High School      582.0\n",
       "Figueroa High School     639.0\n",
       "Ford High School         644.0\n",
       "Griffin High School      625.0\n",
       "Hernandez High School    652.0\n",
       "Holden High School       581.0\n",
       "Huang High School        655.0\n",
       "Johnson High School      650.0\n",
       "Pena High School         609.0\n",
       "Rodriguez High School    637.0\n",
       "Shelton High School      600.0\n",
       "Thomas High School       638.0\n",
       "Wilson High School       578.0\n",
       "Wright High School       583.0\n",
       "dtype: float64"
      ]
     },
     "metadata": {},
     "execution_count": 259
    }
   ],
   "metadata": {}
  },
  {
   "cell_type": "code",
   "execution_count": 260,
   "source": [
    "#4.8.4 Get average scores per school\r\n",
    "\r\n",
    "student_school_math = student_df.set_index(['school_name']).math_score\r\n",
    "\r\n",
    "per_school_averages = school_data_complete_df.groupby(['school_name']).mean()\r\n",
    "per_school_averages\r\n",
    "\r\n",
    "per_school_math = school_data_complete_df.groupby(['school_name']).mean().math_score\r\n",
    "per_school_reading = school_data_complete_df.groupby(['school_name']).mean().reading_score\r\n"
   ],
   "outputs": [],
   "metadata": {}
  },
  {
   "cell_type": "code",
   "execution_count": 261,
   "source": [
    "#Calculate Number of students passing math and passing reading by school\r\n",
    "\r\n",
    "#using previously created df's of only passing grade students\r\n",
    "per_school_passing_math = passing_math.groupby(['school_name']).count()['student_name']\r\n",
    "per_school_passing_reading = passing_reading.groupby(['school_name']).count()['student_name']\r\n",
    "\r\n",
    "per_school_passing_math\r\n",
    "per_school_passing_reading\r\n"
   ],
   "outputs": [
    {
     "output_type": "execute_result",
     "data": {
      "text/plain": [
       "school_name\n",
       "Bailey High School       4077\n",
       "Cabrera High School      1803\n",
       "Figueroa High School     2381\n",
       "Ford High School         2172\n",
       "Griffin High School      1426\n",
       "Hernandez High School    3748\n",
       "Holden High School        411\n",
       "Huang High School        2372\n",
       "Johnson High School      3867\n",
       "Pena High School          923\n",
       "Rodriguez High School    3208\n",
       "Shelton High School      1688\n",
       "Thomas High School       1591\n",
       "Wilson High School       2204\n",
       "Wright High School       1739\n",
       "Name: student_name, dtype: int64"
      ]
     },
     "metadata": {},
     "execution_count": 261
    }
   ],
   "metadata": {}
  },
  {
   "cell_type": "code",
   "execution_count": 262,
   "source": [
    "# Now we can use the series created for number of students and series made for passing counts and find passing percentage for each school\r\n",
    "\r\n",
    "per_school_passing_math_percent = per_school_passing_math / per_school_counts * 100\r\n",
    "per_school_passing_reading_percent = per_school_passing_reading / per_school_counts * 100\r\n",
    "\r\n",
    "per_school_passing_math_percent\r\n",
    "per_school_passing_reading_percent"
   ],
   "outputs": [
    {
     "output_type": "execute_result",
     "data": {
      "text/plain": [
       "Bailey High School       81.933280\n",
       "Cabrera High School      97.039828\n",
       "Figueroa High School     80.739234\n",
       "Ford High School         79.299014\n",
       "Griffin High School      97.138965\n",
       "Hernandez High School    80.862999\n",
       "Holden High School       96.252927\n",
       "Huang High School        81.316421\n",
       "Johnson High School      81.222432\n",
       "Pena High School         95.945946\n",
       "Rodriguez High School    80.220055\n",
       "Shelton High School      95.854628\n",
       "Thomas High School       97.308869\n",
       "Wilson High School       96.539641\n",
       "Wright High School       96.611111\n",
       "dtype: float64"
      ]
     },
     "metadata": {},
     "execution_count": 262
    }
   ],
   "metadata": {}
  },
  {
   "cell_type": "code",
   "execution_count": 263,
   "source": [
    "#calculate overall passing percentage\r\n",
    "#using previously created df\r\n",
    "per_passing_math_reading = passing_math_reading.groupby(['school_name']).count()['student_name']\r\n",
    "per_passing_math_reading\r\n",
    "\r\n",
    "per_overall_pass_percentage = per_passing_math_reading / per_school_counts *100\r\n",
    "per_overall_pass_percentage"
   ],
   "outputs": [
    {
     "output_type": "execute_result",
     "data": {
      "text/plain": [
       "Bailey High School       54.642283\n",
       "Cabrera High School      91.334769\n",
       "Figueroa High School     53.204476\n",
       "Ford High School         54.289887\n",
       "Griffin High School      90.599455\n",
       "Hernandez High School    53.527508\n",
       "Holden High School       89.227166\n",
       "Huang High School        53.513884\n",
       "Johnson High School      53.539172\n",
       "Pena High School         90.540541\n",
       "Rodriguez High School    52.988247\n",
       "Shelton High School      89.892107\n",
       "Thomas High School       90.948012\n",
       "Wilson High School       90.582567\n",
       "Wright High School       90.333333\n",
       "dtype: float64"
      ]
     },
     "metadata": {},
     "execution_count": 263
    }
   ],
   "metadata": {}
  },
  {
   "cell_type": "code",
   "execution_count": 264,
   "source": [
    "#4.8.6 Creating School Summary DF\r\n",
    "\r\n",
    "per_school_summary_df = pd.DataFrame({\r\n",
    "             \"School Type\": per_school_types,\r\n",
    "             \"Total Students\": per_school_counts,\r\n",
    "             \"Total School Budget\": per_school_budget,\r\n",
    "             \"Per Student Budget\": per_school_capita,\r\n",
    "             \"Average Math Score\": per_school_math,\r\n",
    "           \"Average Reading Score\": per_school_reading,\r\n",
    "           \"% Passing Math\": per_school_passing_math_percent,\r\n",
    "           \"% Passing Reading\": per_school_passing_reading_percent,\r\n",
    "           \"% Overall Passing\": per_overall_pass_percentage})\r\n",
    "per_school_summary_df.head()\r\n"
   ],
   "outputs": [
    {
     "output_type": "execute_result",
     "data": {
      "text/html": [
       "<div>\n",
       "<style scoped>\n",
       "    .dataframe tbody tr th:only-of-type {\n",
       "        vertical-align: middle;\n",
       "    }\n",
       "\n",
       "    .dataframe tbody tr th {\n",
       "        vertical-align: top;\n",
       "    }\n",
       "\n",
       "    .dataframe thead th {\n",
       "        text-align: right;\n",
       "    }\n",
       "</style>\n",
       "<table border=\"1\" class=\"dataframe\">\n",
       "  <thead>\n",
       "    <tr style=\"text-align: right;\">\n",
       "      <th></th>\n",
       "      <th>School Type</th>\n",
       "      <th>Total Students</th>\n",
       "      <th>Total School Budget</th>\n",
       "      <th>Per Student Budget</th>\n",
       "      <th>Average Math Score</th>\n",
       "      <th>Average Reading Score</th>\n",
       "      <th>% Passing Math</th>\n",
       "      <th>% Passing Reading</th>\n",
       "      <th>% Overall Passing</th>\n",
       "    </tr>\n",
       "  </thead>\n",
       "  <tbody>\n",
       "    <tr>\n",
       "      <th>Bailey High School</th>\n",
       "      <td>District</td>\n",
       "      <td>4976</td>\n",
       "      <td>3124928</td>\n",
       "      <td>628.0</td>\n",
       "      <td>77.048432</td>\n",
       "      <td>81.033963</td>\n",
       "      <td>66.680064</td>\n",
       "      <td>81.933280</td>\n",
       "      <td>54.642283</td>\n",
       "    </tr>\n",
       "    <tr>\n",
       "      <th>Cabrera High School</th>\n",
       "      <td>Charter</td>\n",
       "      <td>1858</td>\n",
       "      <td>1081356</td>\n",
       "      <td>582.0</td>\n",
       "      <td>83.061895</td>\n",
       "      <td>83.975780</td>\n",
       "      <td>94.133477</td>\n",
       "      <td>97.039828</td>\n",
       "      <td>91.334769</td>\n",
       "    </tr>\n",
       "    <tr>\n",
       "      <th>Figueroa High School</th>\n",
       "      <td>District</td>\n",
       "      <td>2949</td>\n",
       "      <td>1884411</td>\n",
       "      <td>639.0</td>\n",
       "      <td>76.711767</td>\n",
       "      <td>81.158020</td>\n",
       "      <td>65.988471</td>\n",
       "      <td>80.739234</td>\n",
       "      <td>53.204476</td>\n",
       "    </tr>\n",
       "    <tr>\n",
       "      <th>Ford High School</th>\n",
       "      <td>District</td>\n",
       "      <td>2739</td>\n",
       "      <td>1763916</td>\n",
       "      <td>644.0</td>\n",
       "      <td>77.102592</td>\n",
       "      <td>80.746258</td>\n",
       "      <td>68.309602</td>\n",
       "      <td>79.299014</td>\n",
       "      <td>54.289887</td>\n",
       "    </tr>\n",
       "    <tr>\n",
       "      <th>Griffin High School</th>\n",
       "      <td>Charter</td>\n",
       "      <td>1468</td>\n",
       "      <td>917500</td>\n",
       "      <td>625.0</td>\n",
       "      <td>83.351499</td>\n",
       "      <td>83.816757</td>\n",
       "      <td>93.392371</td>\n",
       "      <td>97.138965</td>\n",
       "      <td>90.599455</td>\n",
       "    </tr>\n",
       "  </tbody>\n",
       "</table>\n",
       "</div>"
      ],
      "text/plain": [
       "                     School Type  Total Students  Total School Budget  \\\n",
       "Bailey High School      District            4976              3124928   \n",
       "Cabrera High School      Charter            1858              1081356   \n",
       "Figueroa High School    District            2949              1884411   \n",
       "Ford High School        District            2739              1763916   \n",
       "Griffin High School      Charter            1468               917500   \n",
       "\n",
       "                      Per Student Budget  Average Math Score  \\\n",
       "Bailey High School                 628.0           77.048432   \n",
       "Cabrera High School                582.0           83.061895   \n",
       "Figueroa High School               639.0           76.711767   \n",
       "Ford High School                   644.0           77.102592   \n",
       "Griffin High School                625.0           83.351499   \n",
       "\n",
       "                      Average Reading Score  % Passing Math  \\\n",
       "Bailey High School                81.033963       66.680064   \n",
       "Cabrera High School               83.975780       94.133477   \n",
       "Figueroa High School              81.158020       65.988471   \n",
       "Ford High School                  80.746258       68.309602   \n",
       "Griffin High School               83.816757       93.392371   \n",
       "\n",
       "                      % Passing Reading  % Overall Passing  \n",
       "Bailey High School            81.933280          54.642283  \n",
       "Cabrera High School           97.039828          91.334769  \n",
       "Figueroa High School          80.739234          53.204476  \n",
       "Ford High School              79.299014          54.289887  \n",
       "Griffin High School           97.138965          90.599455  "
      ]
     },
     "metadata": {},
     "execution_count": 264
    }
   ],
   "metadata": {}
  },
  {
   "cell_type": "code",
   "execution_count": null,
   "source": [
    "#Formatting per school DF 4.8.7\r\n",
    "\r\n",
    "#First Formatting total school budget and per student budget to include USD sign, 2 decimal places and thousands separator\r\n",
    "\r\n",
    "per_school_summary_df['Total School Budget'] = per_school_summary_df['Total School Budget'].map('${:,.2f}'.format)\r\n",
    "\r\n",
    "per_school_summary_df['Per Student Budget'] = per_school_summary_df['Per Student Budget'].map('${:,.2f}'.format)\r\n",
    "\r\n",
    "\r\n",
    "\r\n",
    "\r\n"
   ],
   "outputs": [],
   "metadata": {}
  }
 ],
 "metadata": {
  "orig_nbformat": 4,
  "language_info": {
   "name": "python",
   "version": "3.8.2",
   "mimetype": "text/x-python",
   "codemirror_mode": {
    "name": "ipython",
    "version": 3
   },
   "pygments_lexer": "ipython3",
   "nbconvert_exporter": "python",
   "file_extension": ".py"
  },
  "kernelspec": {
   "name": "python3",
   "display_name": "Python 3.8.2 32-bit"
  },
  "interpreter": {
   "hash": "53407e1270532579b1a89f93d56ca0e7e69e0c7fe55253e94960ff9a19649c31"
  }
 },
 "nbformat": 4,
 "nbformat_minor": 2
}